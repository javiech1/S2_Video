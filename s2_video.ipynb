{
 "cells": [
  {
   "cell_type": "markdown",
   "metadata": {},
   "source": [
    "**Imports**"
   ]
  },
  {
   "cell_type": "code",
   "execution_count": 20,
   "metadata": {},
   "outputs": [],
   "source": [
    "import subprocess\n",
    "import json\n",
    "from IPython.display import Video"
   ]
  },
  {
   "cell_type": "markdown",
   "metadata": {},
   "source": [
    "**Resolution Modification**"
   ]
  },
  {
   "cell_type": "code",
   "execution_count": 5,
   "metadata": {},
   "outputs": [],
   "source": [
    "def change_resolution(input_video, output_video, width, height):\n",
    "    ffmpeg_cmd = [\n",
    "        'ffmpeg',\n",
    "        '-i', input_video,\n",
    "        '-vf', f'scale={width}:{height}',\n",
    "        '-c:v', 'libx264',\n",
    "        '-crf', '23',\n",
    "        '-c:a', 'copy',\n",
    "        output_video\n",
    "    ]\n",
    "    \n",
    "    subprocess.run(ffmpeg_cmd)\n",
    "    print(f\"Video resized to {width}x{height}\")"
   ]
  },
  {
   "cell_type": "code",
   "execution_count": null,
   "metadata": {},
   "outputs": [],
   "source": [
    "input_video = 'input.mov'\n",
    "output_video = 'output.mov'\n",
    "width = 320\n",
    "height = 180\n",
    "change_resolution(input_video, output_video, width, height)"
   ]
  },
  {
   "cell_type": "markdown",
   "metadata": {},
   "source": [
    "**Modify Chroma Subsampling**"
   ]
  },
  {
   "cell_type": "code",
   "execution_count": 14,
   "metadata": {},
   "outputs": [],
   "source": [
    "def change_chroma_subsampling(input_video, output_video, pix_fmt):\n",
    "    ffmpeg_cmd = [\n",
    "        'ffmpeg',\n",
    "        '-i', input_video,\n",
    "        '-vf', 'pad=width=ceil(iw/2)*2:height=ceil(ih/2)*2', #My file does not have even pixels, so I pad it\n",
    "        '-pix_fmt', pix_fmt,\n",
    "        '-c:v', 'libx264',\n",
    "        '-crf', '23',\n",
    "        '-c:a', 'copy',\n",
    "        output_video\n",
    "    ]\n",
    "    subprocess.run(ffmpeg_cmd)\n",
    "    print(f\"Chroma subsampling changed to {pix_fmt}\")\n"
   ]
  },
  {
   "cell_type": "code",
   "execution_count": null,
   "metadata": {},
   "outputs": [],
   "source": [
    "input_video = 'input.mov'\n",
    "format = 'yuv444p'\n",
    "\n",
    "output_video = 'output.mov'\n",
    "change_chroma_subsampling(input_video, output_video, format)\n"
   ]
  },
  {
   "cell_type": "markdown",
   "metadata": {},
   "source": [
    "**Read Video and print features**"
   ]
  },
  {
   "cell_type": "code",
   "execution_count": 21,
   "metadata": {},
   "outputs": [],
   "source": [
    "def get_video_features(input_video):\n",
    "    cmd = [\n",
    "        'ffprobe',\n",
    "        '-v', 'quiet',\n",
    "        '-print_format', 'json',\n",
    "        '-show_format',\n",
    "        '-show_streams',\n",
    "        input_video\n",
    "    ]\n",
    "    result = subprocess.run(cmd, capture_output=True, text=True)\n",
    "    video_info = json.loads(result.stdout)\n",
    "\n",
    "    video_stream = None\n",
    "    audio_stream = None\n",
    "\n",
    "    for stream in video_info['streams']:\n",
    "        if stream['codec_type'] == 'video':\n",
    "            video_stream = stream\n",
    "        elif stream['codec_type'] == 'audio':\n",
    "            audio_stream = stream\n",
    "\n",
    "    format_info = video_info['format']\n",
    "\n",
    "    print(\"Video Information:\")\n",
    "    print(\"-----------------\")\n",
    "    print(f\"Duration: {float(format_info['duration']):.2f} seconds\")\n",
    "    print(f\"Resolution: {video_stream['width']}x{video_stream['height']}\")\n",
    "    print(f\"Codec: {video_stream['codec_name']}\")\n",
    "    print(f\"Bitrate: {int(format_info['bit_rate'])/1000:.2f} kb/s\")\n",
    "    print(f\"Frame rate: {eval(video_stream['r_frame_rate']):.2f} fps\")"
   ]
  },
  {
   "cell_type": "code",
   "execution_count": null,
   "metadata": {},
   "outputs": [],
   "source": [
    "video_file = 'input.mov'\n",
    "info = get_video_features(video_file)\n"
   ]
  },
  {
   "cell_type": "markdown",
   "metadata": {},
   "source": [
    "**BBB container**"
   ]
  },
  {
   "cell_type": "code",
   "execution_count": 28,
   "metadata": {},
   "outputs": [],
   "source": [
    "def create_bbb_container(input_video, output_video, length = 20):\n",
    "    #cut the video\n",
    "    cut_video = f'{output_video}_cut.mp4'\n",
    "    subprocess.run([\n",
    "        'ffmpeg',\n",
    "        '-i', input_video,\n",
    "        '-t', str(length),\n",
    "        '-c:v', 'copy',\n",
    "        '-c:a', 'copy',\n",
    "        cut_video\n",
    "    ])\n",
    "\n",
    "    #export audio mono\n",
    "    audio_file_aac = 'audio_mono.aac'\n",
    "    subprocess.run([\n",
    "        'ffmpeg',\n",
    "        '-i', cut_video,\n",
    "        '-vn',\n",
    "        '-c:a', 'aac',\n",
    "        '-ac', '1',\n",
    "        '-b:a', '128k',\n",
    "        audio_file_aac\n",
    "    ])\n",
    "\n",
    "    #export audio stereo\n",
    "    audio_file_mp3 = 'audio_stereo.mp3'\n",
    "    subprocess.run([\n",
    "        'ffmpeg',\n",
    "        '-i', cut_video,\n",
    "        '-vn',\n",
    "        '-c:a', 'libmp3lame',\n",
    "        '-ac', '2',\n",
    "        '-b:a', '96k',\n",
    "        audio_file_mp3\n",
    "    ])\n",
    "\n",
    "    #export audio ac3\n",
    "    ac3_audio = 'audio_ac3.ac3'\n",
    "    subprocess.run([\n",
    "        'ffmpeg',\n",
    "        '-i', cut_video,\n",
    "        '-vn',\n",
    "        '-c:a', 'ac3',\n",
    "        '-b:a', '192k',\n",
    "        ac3_audio\n",
    "    ])\n",
    "\n",
    "    #pack everything\n",
    "    subprocess.run([\n",
    "        'ffmpeg',\n",
    "        '-i', cut_video,\n",
    "        '-i', audio_file_aac,\n",
    "        '-i', audio_file_mp3,\n",
    "        '-i', ac3_audio,\n",
    "        '-map', '0:v',\n",
    "        '-map', '1:a',\n",
    "        '-map', '2:a',\n",
    "        '-map', '3:a',\n",
    "        '-c:v', 'copy',\n",
    "        '-c:a', 'copy',\n",
    "        output_video\n",
    "    ])\n"
   ]
  },
  {
   "cell_type": "code",
   "execution_count": null,
   "metadata": {},
   "outputs": [],
   "source": [
    "input_video = 'input.mov'\n",
    "output_video = 'output.mp4'\n",
    "create_bbb_container(input_video, output_video, length = 20)"
   ]
  },
  {
   "cell_type": "markdown",
   "metadata": {},
   "source": [
    "**Track reader**\n"
   ]
  },
  {
   "cell_type": "code",
   "execution_count": 30,
   "metadata": {},
   "outputs": [],
   "source": [
    "def track_reader(input_video):\n",
    "    cmd = [\n",
    "        'ffprobe',\n",
    "        '-v', 'quiet',\n",
    "        '-print_format', 'json',\n",
    "        '-show_streams',\n",
    "        input_video\n",
    "    ]\n",
    "\n",
    "    result = subprocess.run(cmd, capture_output=True, text=True)\n",
    "    track_info = json.loads(result.stdout)\n",
    "\n",
    "    video_tracks = 0\n",
    "    audio_tracks = 0\n",
    "\n",
    "    for stream in track_info['streams']:\n",
    "        codec_type = stream['codec_type']\n",
    "        if codec_type == 'video':\n",
    "            video_tracks += 1\n",
    "        elif codec_type == 'audio':\n",
    "            audio_tracks += 1\n",
    "    return video_tracks, audio_tracks\n"
   ]
  },
  {
   "cell_type": "code",
   "execution_count": null,
   "metadata": {},
   "outputs": [],
   "source": [
    "input_video = 'output.mp4'\n",
    "video, audio = track_reader(input_video)\n",
    "print(f\"Video tracks: {video}\")\n",
    "print(f\"Audio tracks: {audio}\")"
   ]
  },
  {
   "cell_type": "markdown",
   "metadata": {},
   "source": [
    "**Show macroblocks and motion vectors**"
   ]
  },
  {
   "cell_type": "code",
   "execution_count": 42,
   "metadata": {},
   "outputs": [],
   "source": [
    "def macroblocks_and_motion_vectors(input_video, output_video):\n",
    "    debug_filter = 'codecview=mv=1:mvt=1:qp=1'\n",
    "    cmd = [\n",
    "        'ffmpeg',\n",
    "        '-flags2', '+export_mvs',\n",
    "        '-i', input_video,\n",
    "    '-vf', 'pad=ceil(iw/16)*16:ceil(ih/16)*16,codecview=mv=1:mvt=2:qp=1',\n",
    "        '-c:v', 'libx264',\n",
    "        output_video\n",
    "    ]\n",
    "\n",
    "    result = subprocess.run(cmd, capture_output=True, text=True)"
   ]
  },
  {
   "cell_type": "code",
   "execution_count": 43,
   "metadata": {},
   "outputs": [],
   "source": [
    "input_video = 'input.mov'\n",
    "output_video = 'output.mp4'\n",
    "macroblocks_and_motion_vectors(input_video, output_video)"
   ]
  },
  {
   "cell_type": "markdown",
   "metadata": {},
   "source": [
    "**YUV**"
   ]
  },
  {
   "cell_type": "code",
   "execution_count": 46,
   "metadata": {},
   "outputs": [],
   "source": [
    "def yuv(input_video, output_video):\n",
    "    cmd = [\n",
    "        'ffmpeg',\n",
    "        '-i', input_video,\n",
    "        '-vf', 'pad=ceil(iw/2)*2:ceil(ih/2)*2,split=2[a][b];[b]histogram=display_mode=overlay:level_height=244[histo];[a][histo]overlay=x=W-w:y=0',\n",
    "        '-c:v', 'libx264',\n",
    "        output_video\n",
    "    ]\n",
    "\n",
    "    subprocess.run(cmd)\n",
    "\n"
   ]
  },
  {
   "cell_type": "code",
   "execution_count": null,
   "metadata": {},
   "outputs": [],
   "source": [
    "input_video = 'input.mov'\n",
    "output_video = 'output.mp4'\n",
    "yuv(input_video, output_video)"
   ]
  },
  {
   "cell_type": "code",
   "execution_count": null,
   "metadata": {},
   "outputs": [],
   "source": []
  }
 ],
 "metadata": {
  "kernelspec": {
   "display_name": "Python 3",
   "language": "python",
   "name": "python3"
  },
  "language_info": {
   "codemirror_mode": {
    "name": "ipython",
    "version": 3
   },
   "file_extension": ".py",
   "mimetype": "text/x-python",
   "name": "python",
   "nbconvert_exporter": "python",
   "pygments_lexer": "ipython3",
   "version": "3.12.7"
  }
 },
 "nbformat": 4,
 "nbformat_minor": 2
}
