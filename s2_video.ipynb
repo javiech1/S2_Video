{
 "cells": [
  {
   "cell_type": "markdown",
   "metadata": {},
   "source": [
    "**Imports**"
   ]
  },
  {
   "cell_type": "code",
   "execution_count": 1,
   "metadata": {},
   "outputs": [],
   "source": [
    "import subprocess\n",
    "from IPython.display import Video"
   ]
  },
  {
   "cell_type": "markdown",
   "metadata": {},
   "source": [
    "**Resolution Modification**"
   ]
  },
  {
   "cell_type": "code",
   "execution_count": 5,
   "metadata": {},
   "outputs": [],
   "source": [
    "def change_resolution(input_video, output_video, width, height):\n",
    "    ffmpeg_cmd = [\n",
    "        'ffmpeg',\n",
    "        '-i', input_video,\n",
    "        '-vf', f'scale={width}:{height}',\n",
    "        '-c:v', 'libx264',\n",
    "        '-crf', '23',\n",
    "        '-c:a', 'copy',\n",
    "        output_video\n",
    "    ]\n",
    "    \n",
    "    subprocess.run(ffmpeg_cmd)\n",
    "    print(f\"Video resized to {width}x{height}\")"
   ]
  },
  {
   "cell_type": "code",
   "execution_count": 6,
   "metadata": {},
   "outputs": [
    {
     "name": "stderr",
     "output_type": "stream",
     "text": [
      "ffmpeg version 7.1 Copyright (c) 2000-2024 the FFmpeg developers\n",
      "  built with Apple clang version 16.0.0 (clang-1600.0.26.4)\n",
      "  configuration: --prefix=/opt/homebrew/Cellar/ffmpeg/7.1_3 --enable-shared --enable-pthreads --enable-version3 --cc=clang --host-cflags= --host-ldflags='-Wl,-ld_classic' --enable-ffplay --enable-gnutls --enable-gpl --enable-libaom --enable-libaribb24 --enable-libbluray --enable-libdav1d --enable-libharfbuzz --enable-libjxl --enable-libmp3lame --enable-libopus --enable-librav1e --enable-librist --enable-librubberband --enable-libsnappy --enable-libsrt --enable-libssh --enable-libsvtav1 --enable-libtesseract --enable-libtheora --enable-libvidstab --enable-libvmaf --enable-libvorbis --enable-libvpx --enable-libwebp --enable-libx264 --enable-libx265 --enable-libxml2 --enable-libxvid --enable-lzma --enable-libfontconfig --enable-libfreetype --enable-frei0r --enable-libass --enable-libopencore-amrnb --enable-libopencore-amrwb --enable-libopenjpeg --enable-libspeex --enable-libsoxr --enable-libzmq --enable-libzimg --disable-libjack --disable-indev=jack --enable-videotoolbox --enable-audiotoolbox --enable-neon\n",
      "  libavutil      59. 39.100 / 59. 39.100\n",
      "  libavcodec     61. 19.100 / 61. 19.100\n",
      "  libavformat    61.  7.100 / 61.  7.100\n",
      "  libavdevice    61.  3.100 / 61.  3.100\n",
      "  libavfilter    10.  4.100 / 10.  4.100\n",
      "  libswscale      8.  3.100 /  8.  3.100\n",
      "  libswresample   5.  3.100 /  5.  3.100\n",
      "  libpostproc    58.  3.100 / 58.  3.100\n",
      "Input #0, mov,mp4,m4a,3gp,3g2,mj2, from 'input.mov':\n",
      "  Metadata:\n",
      "    major_brand     : qt  \n",
      "    minor_version   : 537199360\n",
      "    compatible_brands: qt  \n",
      "    creation_time   : 2008-05-27T18:32:32.000000Z\n",
      "    com.apple.quicktime.player.movie.audio.gain: 1.000000\n",
      "    com.apple.quicktime.player.movie.audio.treble: 0.000000\n",
      "    com.apple.quicktime.player.movie.audio.bass: 0.000000\n",
      "    com.apple.quicktime.player.movie.audio.balance: 0.000000\n",
      "    com.apple.quicktime.player.movie.audio.pitchshift: 0.000000\n",
      "    com.apple.quicktime.player.movie.audio.mute: \n",
      "    com.apple.quicktime.player.movie.visual.brightness: 0.000000\n",
      "    com.apple.quicktime.player.movie.visual.color: 1.000000\n",
      "    com.apple.quicktime.player.movie.visual.tint: 0.000000\n",
      "    com.apple.quicktime.player.movie.visual.contrast: 1.000000\n",
      "    com.apple.quicktime.player.version: 7.4.1 (14)\n",
      "    com.apple.quicktime.version: 7.4.1 (14) 0x7418000 (Mac OS X, 10.5.2, 9C31)\n",
      "    timecode        : 00:00:00:00\n",
      "  Duration: 00:09:56.46, start: 0.000000, bitrate: 3342 kb/s\n",
      "  Stream #0:0[0x1](eng): Video: h264 (Main) (avc1 / 0x31637661), yuv420p(tv, bt709, progressive), 853x480, 2899 kb/s, 24 fps, 24 tbr, 2400 tbn (default)\n",
      "      Metadata:\n",
      "        creation_time   : 2008-05-27T18:32:32.000000Z\n",
      "        handler_name    : Apple Video Media Handler\n",
      "        vendor_id       : appl\n",
      "        encoder         : H.264\n",
      "      Side data:\n",
      "        displaymatrix: rotation of -0.00 degrees\n",
      "  Stream #0:1[0x2](eng): Data: none (tmcd / 0x64636D74) (default)\n",
      "      Metadata:\n",
      "        creation_time   : 2008-05-27T18:32:32.000000Z\n",
      "        handler_name    : Time Code Media Handler\n",
      "        timecode        : 00:00:00:00\n",
      "  Stream #0:2[0x4](eng): Audio: aac (LC) (mp4a / 0x6134706D), 48000 Hz, 5.1, fltp, 437 kb/s (default)\n",
      "      Metadata:\n",
      "        creation_time   : 2008-05-27T18:32:32.000000Z\n",
      "        handler_name    : Apple Sound Media Handler\n",
      "        vendor_id       : [0][0][0][0]\n",
      "Stream mapping:\n",
      "  Stream #0:0 -> #0:0 (h264 (native) -> h264 (libx264))\n",
      "  Stream #0:2 -> #0:1 (copy)\n",
      "Press [q] to stop, [?] for help\n",
      "[libx264 @ 0x135e36ea0] using cpu capabilities: ARMv8 NEON\n",
      "[libx264 @ 0x135e36ea0] profile High, level 1.2, 4:2:0, 8-bit\n",
      "[libx264 @ 0x135e36ea0] 264 - core 164 r3108 31e19f9 - H.264/MPEG-4 AVC codec - Copyleft 2003-2023 - http://www.videolan.org/x264.html - options: cabac=1 ref=3 deblock=1:0:0 analyse=0x3:0x113 me=hex subme=7 psy=1 psy_rd=1.00:0.00 mixed_ref=1 me_range=16 chroma_me=1 trellis=1 8x8dct=1 cqm=0 deadzone=21,11 fast_pskip=1 chroma_qp_offset=-2 threads=6 lookahead_threads=1 sliced_threads=0 nr=0 decimate=1 interlaced=0 bluray_compat=0 constrained_intra=0 bframes=3 b_pyramid=2 b_adapt=1 b_bias=0 direct=1 weightb=1 open_gop=0 weightp=2 keyint=250 keyint_min=24 scenecut=40 intra_refresh=0 rc_lookahead=40 rc=crf mbtree=1 crf=23.0 qcomp=0.60 qpmin=0 qpmax=69 qpstep=4 ip_ratio=1.40 aq=1:1.00\n",
      "Output #0, mov, to 'output.mov':\n",
      "  Metadata:\n",
      "    major_brand     : qt  \n",
      "    minor_version   : 537199360\n",
      "    compatible_brands: qt  \n",
      "    timecode        : 00:00:00:00\n",
      "    com.apple.quicktime.player.movie.audio.gain: 1.000000\n",
      "    com.apple.quicktime.player.movie.audio.treble: 0.000000\n",
      "    com.apple.quicktime.player.movie.audio.bass: 0.000000\n",
      "    com.apple.quicktime.player.movie.audio.balance: 0.000000\n",
      "    com.apple.quicktime.player.movie.audio.pitchshift: 0.000000\n",
      "    com.apple.quicktime.player.movie.audio.mute: \n",
      "    com.apple.quicktime.player.movie.visual.brightness: 0.000000\n",
      "    com.apple.quicktime.player.movie.visual.color: 1.000000\n",
      "    com.apple.quicktime.player.movie.visual.tint: 0.000000\n",
      "    com.apple.quicktime.player.movie.visual.contrast: 1.000000\n",
      "    com.apple.quicktime.player.version: 7.4.1 (14)\n",
      "    com.apple.quicktime.version: 7.4.1 (14) 0x7418000 (Mac OS X, 10.5.2, 9C31)\n",
      "    encoder         : Lavf61.7.100\n",
      "  Stream #0:0(eng): Video: h264 (avc1 / 0x31637661), yuv420p(tv, bt709, progressive), 320x180, q=2-31, 24 fps, 12288 tbn (default)\n",
      "      Metadata:\n",
      "        creation_time   : 2008-05-27T18:32:32.000000Z\n",
      "        handler_name    : Apple Video Media Handler\n",
      "        vendor_id       : appl\n",
      "        encoder         : Lavc61.19.100 libx264\n",
      "      Side data:\n",
      "        cpb: bitrate max/min/avg: 0/0/0 buffer size: 0 vbv_delay: N/A\n",
      "  Stream #0:1(eng): Audio: aac (LC) (mp4a / 0x6134706D), 48000 Hz, 5.1, fltp, 437 kb/s (default)\n",
      "      Metadata:\n",
      "        creation_time   : 2008-05-27T18:32:32.000000Z\n",
      "        handler_name    : Apple Sound Media Handler\n",
      "        vendor_id       : [0][0][0][0]\n",
      "frame=13639 fps=1497 q=28.0 size=   42752KiB time=00:09:28.20 bitrate= 616.4kbits/s speed=62.4x    \r"
     ]
    },
    {
     "name": "stdout",
     "output_type": "stream",
     "text": [
      "Video resized to 320x180\n"
     ]
    },
    {
     "name": "stderr",
     "output_type": "stream",
     "text": [
      "[out#0/mov @ 0x135e36000] video:12683KiB audio:31863KiB subtitle:0KiB other streams:0KiB global headers:0KiB muxing overhead: 0.880836%\n",
      "frame=14315 fps=1522 q=-1.0 Lsize=   44939KiB time=00:09:56.37 bitrate= 617.3kbits/s speed=63.4x    \n",
      "[libx264 @ 0x135e36ea0] frame I:149   Avg QP:18.59  size: 13318\n",
      "[libx264 @ 0x135e36ea0] frame P:6219  Avg QP:23.08  size:  1336\n",
      "[libx264 @ 0x135e36ea0] frame B:7947  Avg QP:28.00  size:   339\n",
      "[libx264 @ 0x135e36ea0] consecutive B-frames: 17.1% 24.6%  5.7% 52.6%\n",
      "[libx264 @ 0x135e36ea0] mb I  I16..4:  5.5% 51.3% 43.2%\n",
      "[libx264 @ 0x135e36ea0] mb P  I16..4:  0.5%  2.1%  1.5%  P16..4: 26.4% 10.7%  8.5%  0.0%  0.0%    skip:50.3%\n",
      "[libx264 @ 0x135e36ea0] mb B  I16..4:  0.1%  0.5%  0.5%  B16..8: 19.2%  3.6%  1.4%  direct: 1.3%  skip:73.4%  L0:34.6% L1:53.0% BI:12.4%\n",
      "[libx264 @ 0x135e36ea0] 8x8 transform intra:50.8% inter:56.4%\n",
      "[libx264 @ 0x135e36ea0] coded y,uvDC,uvAC intra: 70.6% 78.9% 58.6% inter: 11.8% 10.1% 3.0%\n",
      "[libx264 @ 0x135e36ea0] i16 v,h,dc,p: 27% 29%  9% 35%\n",
      "[libx264 @ 0x135e36ea0] i8 v,h,dc,ddl,ddr,vr,hd,vl,hu: 19% 17% 17%  5%  7%  9%  8%  8% 10%\n",
      "[libx264 @ 0x135e36ea0] i4 v,h,dc,ddl,ddr,vr,hd,vl,hu: 37% 14% 11%  5%  7%  7%  7%  6%  6%\n",
      "[libx264 @ 0x135e36ea0] i8c dc,h,v,p: 49% 22% 19% 10%\n",
      "[libx264 @ 0x135e36ea0] Weighted P-Frames: Y:3.8% UV:1.8%\n",
      "[libx264 @ 0x135e36ea0] ref P L0: 68.7% 15.6%  9.7%  5.8%  0.2%\n",
      "[libx264 @ 0x135e36ea0] ref B L0: 89.0%  7.8%  3.2%\n",
      "[libx264 @ 0x135e36ea0] ref B L1: 96.2%  3.8%\n",
      "[libx264 @ 0x135e36ea0] kb/s:174.19\n"
     ]
    }
   ],
   "source": [
    "input_video = 'input.mov'\n",
    "output_video = 'output.mov'\n",
    "width = 320\n",
    "height = 180\n",
    "change_resolution(input_video, output_video, width, height)"
   ]
  },
  {
   "cell_type": "code",
   "execution_count": 4,
   "metadata": {},
   "outputs": [
    {
     "name": "stdout",
     "output_type": "stream",
     "text": [
      "\n",
      "Converted video:\n"
     ]
    },
    {
     "ename": "ValueError",
     "evalue": "To embed videos, you must pass embed=True (this may make your notebook files huge)\nConsider passing Video(url='...')",
     "output_type": "error",
     "traceback": [
      "\u001b[0;31m---------------------------------------------------------------------------\u001b[0m",
      "\u001b[0;31mValueError\u001b[0m                                Traceback (most recent call last)",
      "Cell \u001b[0;32mIn[4], line 2\u001b[0m\n\u001b[1;32m      1\u001b[0m \u001b[38;5;28mprint\u001b[39m(\u001b[38;5;124m\"\u001b[39m\u001b[38;5;130;01m\\n\u001b[39;00m\u001b[38;5;124mConverted video:\u001b[39m\u001b[38;5;124m\"\u001b[39m)\n\u001b[0;32m----> 2\u001b[0m \u001b[43mVideo\u001b[49m\u001b[43m(\u001b[49m\u001b[43moutput_video\u001b[49m\u001b[43m)\u001b[49m\n",
      "File \u001b[0;32m~/Desktop/S2_Video/.venv/lib/python3.12/site-packages/IPython/core/display.py:1245\u001b[0m, in \u001b[0;36mVideo.__init__\u001b[0;34m(self, data, url, filename, embed, mimetype, width, height, html_attributes)\u001b[0m\n\u001b[1;32m   1239\u001b[0m \u001b[38;5;28;01mif\u001b[39;00m data \u001b[38;5;129;01mand\u001b[39;00m \u001b[38;5;129;01mnot\u001b[39;00m embed:\n\u001b[1;32m   1240\u001b[0m     msg \u001b[38;5;241m=\u001b[39m \u001b[38;5;124m'\u001b[39m\u001b[38;5;124m'\u001b[39m\u001b[38;5;241m.\u001b[39mjoin([\n\u001b[1;32m   1241\u001b[0m         \u001b[38;5;124m\"\u001b[39m\u001b[38;5;124mTo embed videos, you must pass embed=True \u001b[39m\u001b[38;5;124m\"\u001b[39m,\n\u001b[1;32m   1242\u001b[0m         \u001b[38;5;124m\"\u001b[39m\u001b[38;5;124m(this may make your notebook files huge)\u001b[39m\u001b[38;5;130;01m\\n\u001b[39;00m\u001b[38;5;124m\"\u001b[39m,\n\u001b[1;32m   1243\u001b[0m         \u001b[38;5;124m\"\u001b[39m\u001b[38;5;124mConsider passing Video(url=\u001b[39m\u001b[38;5;124m'\u001b[39m\u001b[38;5;124m...\u001b[39m\u001b[38;5;124m'\u001b[39m\u001b[38;5;124m)\u001b[39m\u001b[38;5;124m\"\u001b[39m,\n\u001b[1;32m   1244\u001b[0m     ])\n\u001b[0;32m-> 1245\u001b[0m     \u001b[38;5;28;01mraise\u001b[39;00m \u001b[38;5;167;01mValueError\u001b[39;00m(msg)\n\u001b[1;32m   1247\u001b[0m \u001b[38;5;28mself\u001b[39m\u001b[38;5;241m.\u001b[39mmimetype \u001b[38;5;241m=\u001b[39m mimetype\n\u001b[1;32m   1248\u001b[0m \u001b[38;5;28mself\u001b[39m\u001b[38;5;241m.\u001b[39membed \u001b[38;5;241m=\u001b[39m embed\n",
      "\u001b[0;31mValueError\u001b[0m: To embed videos, you must pass embed=True (this may make your notebook files huge)\nConsider passing Video(url='...')"
     ]
    }
   ],
   "source": [
    "print(\"\\nConverted video:\")\n",
    "Video(output_video)"
   ]
  },
  {
   "cell_type": "code",
   "execution_count": null,
   "metadata": {},
   "outputs": [],
   "source": []
  }
 ],
 "metadata": {
  "kernelspec": {
   "display_name": "Python 3",
   "language": "python",
   "name": "python3"
  },
  "language_info": {
   "codemirror_mode": {
    "name": "ipython",
    "version": 3
   },
   "file_extension": ".py",
   "mimetype": "text/x-python",
   "name": "python",
   "nbconvert_exporter": "python",
   "pygments_lexer": "ipython3",
   "version": "3.12.7"
  }
 },
 "nbformat": 4,
 "nbformat_minor": 2
}
